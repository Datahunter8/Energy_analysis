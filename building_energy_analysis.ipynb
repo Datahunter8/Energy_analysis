{
 "cells": [
  {
   "cell_type": "markdown",
   "id": "ea1221e6",
   "metadata": {},
   "source": [
    "# Building Energy & Heat Pump Data Analysis"
   ]
  },
  {
   "cell_type": "code",
   "execution_count": null,
   "id": "23bfe276",
   "metadata": {},
   "outputs": [],
   "source": [
    "\n",
    "import pandas as pd\n",
    "import matplotlib.pyplot as plt\n",
    "import seaborn as sns\n",
    "\n",
    "# Load datasets\n",
    "heat_pump_df = pd.read_csv(\"Heat_Pump_Calculation_Table.csv\")\n",
    "building_energy_df = pd.read_excel(\"updated_building_energy_dataset.xlsx\")\n",
    "\n",
    "# Convert timestamp column\n",
    "building_energy_df[\"Timestamp\"] = pd.to_datetime(building_energy_df[\"Timestamp\"], format=\"%d-%m-%Y %H:%M\")\n",
    "\n",
    "# Display dataset info\n",
    "heat_pump_df.info(), building_energy_df.info()\n"
   ]
  },
  {
   "cell_type": "markdown",
   "id": "36061f44",
   "metadata": {},
   "source": [
    "## Summary Statistics"
   ]
  },
  {
   "cell_type": "code",
   "execution_count": null,
   "id": "15145e8f",
   "metadata": {},
   "outputs": [],
   "source": [
    "\n",
    "# Display summary statistics\n",
    "heat_pump_df.describe(), building_energy_df.describe()\n"
   ]
  },
  {
   "cell_type": "markdown",
   "id": "d7e523ba",
   "metadata": {},
   "source": [
    "## Heating Demand Trend Analysis"
   ]
  },
  {
   "cell_type": "code",
   "execution_count": null,
   "id": "576b9607",
   "metadata": {},
   "outputs": [],
   "source": [
    "\n",
    "# Plot heating demand trends\n",
    "plt.figure(figsize=(12, 6))\n",
    "sns.lineplot(data=building_energy_df, x=\"Timestamp\", y=\"Heating Demand (kWh)\", hue=\"Building Type\")\n",
    "plt.title(\"Hourly Heating Demand by Building Type\")\n",
    "plt.xlabel(\"Timestamp\")\n",
    "plt.ylabel(\"Heating Demand (kWh)\")\n",
    "plt.xticks(rotation=45)\n",
    "plt.legend(title=\"Building Type\")\n",
    "plt.tight_layout()\n",
    "plt.show()\n"
   ]
  }
 ],
 "metadata": {},
 "nbformat": 4,
 "nbformat_minor": 5
}
